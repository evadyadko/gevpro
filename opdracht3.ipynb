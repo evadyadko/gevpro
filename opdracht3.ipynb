{
 "cells": [
  {
   "cell_type": "markdown",
   "metadata": {
    "nbgrader": {
     "grade": false,
     "grade_id": "cell-47fb62c0cb045bbe",
     "locked": true,
     "schema_version": 1,
     "solution": false
    }
   },
   "source": [
    "# Assignment\n",
    "\n",
    "We will work with a dataset of movies from IMDB included with the assignment; source: https://www.kaggle.com/stefanoleone992/imdb-extensive-dataset?select=IMDb+movies.csv\n",
    "\n",
    "Before you begin, run the code in this notebook to see the output. Go to the Cell menu, and press Run All."
   ]
  },
  {
   "cell_type": "code",
   "execution_count": 85,
   "metadata": {
    "nbgrader": {
     "grade": false,
     "grade_id": "cell-27121c498ff67f14",
     "locked": true,
     "schema_version": 1,
     "solution": false
    }
   },
   "outputs": [
    {
     "data": {
      "text/plain": [
       "(85785, 22)"
      ]
     },
     "execution_count": 85,
     "metadata": {},
     "output_type": "execute_result"
    }
   ],
   "source": [
    "import pandas as pd\n",
    "from pandas import DataFrame\n",
    "import matplotlib.pyplot as plt\n",
    "import seaborn as sns\n",
    "df = pd.read_csv('IMDb movies.csv', low_memory=False)\n",
    "df.year = pd.to_numeric(df.year, errors='coerce')  # replace some invalid year values with 'NaN'\n",
    "df = df.dropna(subset=['year', 'actors'])  # drop rows with missing values in this column\n",
    "df.shape"
   ]
  },
  {
   "cell_type": "code",
   "execution_count": 86,
   "metadata": {},
   "outputs": [
    {
     "name": "stdout",
     "output_type": "stream",
     "text": [
      "<class 'pandas.core.frame.DataFrame'>\n",
      "Int64Index: 85785 entries, 0 to 85854\n",
      "Data columns (total 22 columns):\n",
      " #   Column                 Non-Null Count  Dtype  \n",
      "---  ------                 --------------  -----  \n",
      " 0   imdb_title_id          85785 non-null  object \n",
      " 1   title                  85785 non-null  object \n",
      " 2   original_title         85785 non-null  object \n",
      " 3   year                   85785 non-null  float64\n",
      " 4   date_published         85785 non-null  object \n",
      " 5   genre                  85785 non-null  object \n",
      " 6   duration               85785 non-null  int64  \n",
      " 7   country                85724 non-null  object \n",
      " 8   language               84960 non-null  object \n",
      " 9   director               85712 non-null  object \n",
      " 10  writer                 84249 non-null  object \n",
      " 11  production_company     81360 non-null  object \n",
      " 12  actors                 85785 non-null  object \n",
      " 13  description            83675 non-null  object \n",
      " 14  avg_vote               85785 non-null  float64\n",
      " 15  votes                  85785 non-null  int64  \n",
      " 16  budget                 23703 non-null  object \n",
      " 17  usa_gross_income       15321 non-null  object \n",
      " 18  worlwide_gross_income  30992 non-null  object \n",
      " 19  metascore              13299 non-null  float64\n",
      " 20  reviews_from_users     78206 non-null  float64\n",
      " 21  reviews_from_critics   74010 non-null  float64\n",
      "dtypes: float64(5), int64(2), object(15)\n",
      "memory usage: 15.1+ MB\n"
     ]
    }
   ],
   "source": [
    "df.info()"
   ]
  },
  {
   "cell_type": "code",
   "execution_count": 87,
   "metadata": {
    "nbgrader": {
     "grade": false,
     "grade_id": "cell-7382b3537acda224",
     "locked": true,
     "schema_version": 1,
     "solution": false
    }
   },
   "outputs": [
    {
     "data": {
      "text/html": [
       "<div>\n",
       "<style scoped>\n",
       "    .dataframe tbody tr th:only-of-type {\n",
       "        vertical-align: middle;\n",
       "    }\n",
       "\n",
       "    .dataframe tbody tr th {\n",
       "        vertical-align: top;\n",
       "    }\n",
       "\n",
       "    .dataframe thead th {\n",
       "        text-align: right;\n",
       "    }\n",
       "</style>\n",
       "<table border=\"1\" class=\"dataframe\">\n",
       "  <thead>\n",
       "    <tr style=\"text-align: right;\">\n",
       "      <th></th>\n",
       "      <th>year</th>\n",
       "      <th>duration</th>\n",
       "      <th>avg_vote</th>\n",
       "      <th>votes</th>\n",
       "      <th>metascore</th>\n",
       "      <th>reviews_from_users</th>\n",
       "      <th>reviews_from_critics</th>\n",
       "    </tr>\n",
       "  </thead>\n",
       "  <tbody>\n",
       "    <tr>\n",
       "      <th>count</th>\n",
       "      <td>85785.000000</td>\n",
       "      <td>85785.000000</td>\n",
       "      <td>85785.000000</td>\n",
       "      <td>8.578500e+04</td>\n",
       "      <td>13299.000000</td>\n",
       "      <td>78206.000000</td>\n",
       "      <td>74010.000000</td>\n",
       "    </tr>\n",
       "    <tr>\n",
       "      <th>mean</th>\n",
       "      <td>1993.491450</td>\n",
       "      <td>100.363700</td>\n",
       "      <td>5.898293</td>\n",
       "      <td>9.500494e+03</td>\n",
       "      <td>55.887962</td>\n",
       "      <td>46.062540</td>\n",
       "      <td>27.489447</td>\n",
       "    </tr>\n",
       "    <tr>\n",
       "      <th>std</th>\n",
       "      <td>24.216793</td>\n",
       "      <td>22.546805</td>\n",
       "      <td>1.234680</td>\n",
       "      <td>5.359558e+04</td>\n",
       "      <td>17.782702</td>\n",
       "      <td>178.567425</td>\n",
       "      <td>58.354913</td>\n",
       "    </tr>\n",
       "    <tr>\n",
       "      <th>min</th>\n",
       "      <td>1894.000000</td>\n",
       "      <td>41.000000</td>\n",
       "      <td>1.000000</td>\n",
       "      <td>9.900000e+01</td>\n",
       "      <td>1.000000</td>\n",
       "      <td>1.000000</td>\n",
       "      <td>1.000000</td>\n",
       "    </tr>\n",
       "    <tr>\n",
       "      <th>25%</th>\n",
       "      <td>1979.000000</td>\n",
       "      <td>88.000000</td>\n",
       "      <td>5.200000</td>\n",
       "      <td>2.050000e+02</td>\n",
       "      <td>43.000000</td>\n",
       "      <td>4.000000</td>\n",
       "      <td>3.000000</td>\n",
       "    </tr>\n",
       "    <tr>\n",
       "      <th>50%</th>\n",
       "      <td>2002.000000</td>\n",
       "      <td>96.000000</td>\n",
       "      <td>6.100000</td>\n",
       "      <td>4.850000e+02</td>\n",
       "      <td>57.000000</td>\n",
       "      <td>9.000000</td>\n",
       "      <td>8.000000</td>\n",
       "    </tr>\n",
       "    <tr>\n",
       "      <th>75%</th>\n",
       "      <td>2013.000000</td>\n",
       "      <td>108.000000</td>\n",
       "      <td>6.800000</td>\n",
       "      <td>1.769000e+03</td>\n",
       "      <td>69.000000</td>\n",
       "      <td>27.000000</td>\n",
       "      <td>23.750000</td>\n",
       "    </tr>\n",
       "    <tr>\n",
       "      <th>max</th>\n",
       "      <td>2020.000000</td>\n",
       "      <td>808.000000</td>\n",
       "      <td>9.900000</td>\n",
       "      <td>2.278845e+06</td>\n",
       "      <td>100.000000</td>\n",
       "      <td>10472.000000</td>\n",
       "      <td>999.000000</td>\n",
       "    </tr>\n",
       "  </tbody>\n",
       "</table>\n",
       "</div>"
      ],
      "text/plain": [
       "               year      duration      avg_vote         votes     metascore  \\\n",
       "count  85785.000000  85785.000000  85785.000000  8.578500e+04  13299.000000   \n",
       "mean    1993.491450    100.363700      5.898293  9.500494e+03     55.887962   \n",
       "std       24.216793     22.546805      1.234680  5.359558e+04     17.782702   \n",
       "min     1894.000000     41.000000      1.000000  9.900000e+01      1.000000   \n",
       "25%     1979.000000     88.000000      5.200000  2.050000e+02     43.000000   \n",
       "50%     2002.000000     96.000000      6.100000  4.850000e+02     57.000000   \n",
       "75%     2013.000000    108.000000      6.800000  1.769000e+03     69.000000   \n",
       "max     2020.000000    808.000000      9.900000  2.278845e+06    100.000000   \n",
       "\n",
       "       reviews_from_users  reviews_from_critics  \n",
       "count        78206.000000          74010.000000  \n",
       "mean            46.062540             27.489447  \n",
       "std            178.567425             58.354913  \n",
       "min              1.000000              1.000000  \n",
       "25%              4.000000              3.000000  \n",
       "50%              9.000000              8.000000  \n",
       "75%             27.000000             23.750000  \n",
       "max          10472.000000            999.000000  "
      ]
     },
     "execution_count": 87,
     "metadata": {},
     "output_type": "execute_result"
    }
   ],
   "source": [
    "df.describe()"
   ]
  },
  {
   "cell_type": "code",
   "execution_count": 88,
   "metadata": {},
   "outputs": [
    {
     "data": {
      "text/plain": [
       "Index(['imdb_title_id', 'title', 'original_title', 'year', 'date_published',\n",
       "       'genre', 'duration', 'country', 'language', 'director', 'writer',\n",
       "       'production_company', 'actors', 'description', 'avg_vote', 'votes',\n",
       "       'budget', 'usa_gross_income', 'worlwide_gross_income', 'metascore',\n",
       "       'reviews_from_users', 'reviews_from_critics'],\n",
       "      dtype='object')"
      ]
     },
     "execution_count": 88,
     "metadata": {},
     "output_type": "execute_result"
    }
   ],
   "source": [
    "df.columns"
   ]
  },
  {
   "cell_type": "markdown",
   "metadata": {
    "nbgrader": {
     "grade": false,
     "grade_id": "cell-211e24895bfc0682",
     "locked": true,
     "schema_version": 1,
     "solution": false
    }
   },
   "source": [
    "# Questions\n",
    "\n",
    "For each question below, fill in the code to compute the answer. Each cell contains a template with the expected variable name and code that produces a wrong answer, but with the right type and format. Don't change the variable name or the type. Answers will be graded with automatic tests where possible."
   ]
  },
  {
   "cell_type": "code",
   "execution_count": 89,
   "metadata": {
    "nbgrader": {
     "grade": false,
     "grade_id": "cell-17902f92e4b81b52",
     "locked": true,
     "schema_version": 1,
     "solution": false
    }
   },
   "outputs": [],
   "source": [
    "# Example:\n",
    "# 0. What is the longest movie?\n",
    "# Template:\n",
    "example = df.head(1)\n",
    "# Replace with your code:\n",
    "example = df.nlargest(1, 'duration')"
   ]
  },
  {
   "cell_type": "code",
   "execution_count": 90,
   "metadata": {
    "nbgrader": {
     "grade": false,
     "grade_id": "cell-c56b66b40feb0a37",
     "locked": true,
     "schema_version": 1,
     "solution": false
    },
    "scrolled": true
   },
   "outputs": [
    {
     "data": {
      "text/html": [
       "<div>\n",
       "<style scoped>\n",
       "    .dataframe tbody tr th:only-of-type {\n",
       "        vertical-align: middle;\n",
       "    }\n",
       "\n",
       "    .dataframe tbody tr th {\n",
       "        vertical-align: top;\n",
       "    }\n",
       "\n",
       "    .dataframe thead th {\n",
       "        text-align: right;\n",
       "    }\n",
       "</style>\n",
       "<table border=\"1\" class=\"dataframe\">\n",
       "  <thead>\n",
       "    <tr style=\"text-align: right;\">\n",
       "      <th></th>\n",
       "      <th>imdb_title_id</th>\n",
       "      <th>title</th>\n",
       "      <th>original_title</th>\n",
       "      <th>year</th>\n",
       "      <th>date_published</th>\n",
       "      <th>genre</th>\n",
       "      <th>duration</th>\n",
       "      <th>country</th>\n",
       "      <th>language</th>\n",
       "      <th>director</th>\n",
       "      <th>...</th>\n",
       "      <th>actors</th>\n",
       "      <th>description</th>\n",
       "      <th>avg_vote</th>\n",
       "      <th>votes</th>\n",
       "      <th>budget</th>\n",
       "      <th>usa_gross_income</th>\n",
       "      <th>worlwide_gross_income</th>\n",
       "      <th>metascore</th>\n",
       "      <th>reviews_from_users</th>\n",
       "      <th>reviews_from_critics</th>\n",
       "    </tr>\n",
       "  </thead>\n",
       "  <tbody>\n",
       "    <tr>\n",
       "      <th>85057</th>\n",
       "      <td>tt9047474</td>\n",
       "      <td>La flor</td>\n",
       "      <td>La flor</td>\n",
       "      <td>2016.0</td>\n",
       "      <td>2018-09-21</td>\n",
       "      <td>Drama, Fantasy, Musical</td>\n",
       "      <td>808</td>\n",
       "      <td>Argentina</td>\n",
       "      <td>Catalan, Spanish, French, English, Russian, Ge...</td>\n",
       "      <td>Mariano Llinás</td>\n",
       "      <td>...</td>\n",
       "      <td>Elisa Carricajo, Valeria Correa, Pilar Gamboa,...</td>\n",
       "      <td>A film in six episodes, connected by the same ...</td>\n",
       "      <td>7.7</td>\n",
       "      <td>473</td>\n",
       "      <td>NaN</td>\n",
       "      <td>$ 4032</td>\n",
       "      <td>$ 4032</td>\n",
       "      <td>77.0</td>\n",
       "      <td>5.0</td>\n",
       "      <td>23.0</td>\n",
       "    </tr>\n",
       "  </tbody>\n",
       "</table>\n",
       "<p>1 rows × 22 columns</p>\n",
       "</div>"
      ],
      "text/plain": [
       "      imdb_title_id    title original_title    year date_published  \\\n",
       "85057     tt9047474  La flor        La flor  2016.0     2018-09-21   \n",
       "\n",
       "                         genre  duration    country  \\\n",
       "85057  Drama, Fantasy, Musical       808  Argentina   \n",
       "\n",
       "                                                language        director  ...  \\\n",
       "85057  Catalan, Spanish, French, English, Russian, Ge...  Mariano Llinás  ...   \n",
       "\n",
       "                                                  actors  \\\n",
       "85057  Elisa Carricajo, Valeria Correa, Pilar Gamboa,...   \n",
       "\n",
       "                                             description avg_vote votes  \\\n",
       "85057  A film in six episodes, connected by the same ...      7.7   473   \n",
       "\n",
       "       budget  usa_gross_income worlwide_gross_income metascore  \\\n",
       "85057     NaN            $ 4032                $ 4032      77.0   \n",
       "\n",
       "      reviews_from_users  reviews_from_critics  \n",
       "85057                5.0                  23.0  \n",
       "\n",
       "[1 rows x 22 columns]"
      ]
     },
     "execution_count": 90,
     "metadata": {},
     "output_type": "execute_result"
    }
   ],
   "source": [
    "# To show the result:\n",
    "example"
   ]
  },
  {
   "cell_type": "markdown",
   "metadata": {
    "nbgrader": {
     "grade": false,
     "grade_id": "cell-b68b13f36d487d42",
     "locked": true,
     "schema_version": 1,
     "solution": false
    }
   },
   "source": [
    "1. What is the movie with the highest \"avg_vote\"?"
   ]
  },
  {
   "cell_type": "code",
   "execution_count": 91,
   "metadata": {
    "nbgrader": {
     "grade": false,
     "grade_id": "cell-14cce761879dee97",
     "locked": false,
     "schema_version": 1,
     "solution": true
    }
   },
   "outputs": [],
   "source": [
    "highestrated = df.head(1)\n",
    "highestrated = df.nlargest(1, 'avg_vote')"
   ]
  },
  {
   "cell_type": "code",
   "execution_count": 92,
   "metadata": {
    "nbgrader": {
     "grade": true,
     "grade_id": "cell-a64062a1b78c4ed1",
     "locked": true,
     "points": 1,
     "schema_version": 1,
     "solution": false
    },
    "scrolled": true
   },
   "outputs": [
    {
     "data": {
      "text/html": [
       "<div>\n",
       "<style scoped>\n",
       "    .dataframe tbody tr th:only-of-type {\n",
       "        vertical-align: middle;\n",
       "    }\n",
       "\n",
       "    .dataframe tbody tr th {\n",
       "        vertical-align: top;\n",
       "    }\n",
       "\n",
       "    .dataframe thead th {\n",
       "        text-align: right;\n",
       "    }\n",
       "</style>\n",
       "<table border=\"1\" class=\"dataframe\">\n",
       "  <thead>\n",
       "    <tr style=\"text-align: right;\">\n",
       "      <th></th>\n",
       "      <th>imdb_title_id</th>\n",
       "      <th>title</th>\n",
       "      <th>original_title</th>\n",
       "      <th>year</th>\n",
       "      <th>date_published</th>\n",
       "      <th>genre</th>\n",
       "      <th>duration</th>\n",
       "      <th>country</th>\n",
       "      <th>language</th>\n",
       "      <th>director</th>\n",
       "      <th>...</th>\n",
       "      <th>actors</th>\n",
       "      <th>description</th>\n",
       "      <th>avg_vote</th>\n",
       "      <th>votes</th>\n",
       "      <th>budget</th>\n",
       "      <th>usa_gross_income</th>\n",
       "      <th>worlwide_gross_income</th>\n",
       "      <th>metascore</th>\n",
       "      <th>reviews_from_users</th>\n",
       "      <th>reviews_from_critics</th>\n",
       "    </tr>\n",
       "  </thead>\n",
       "  <tbody>\n",
       "    <tr>\n",
       "      <th>83275</th>\n",
       "      <td>tt7822474</td>\n",
       "      <td>Suvarna Sundari</td>\n",
       "      <td>Suvarna Sundari</td>\n",
       "      <td>2019.0</td>\n",
       "      <td>2019-05-31</td>\n",
       "      <td>Action, Thriller</td>\n",
       "      <td>120</td>\n",
       "      <td>India</td>\n",
       "      <td>Telugu, Kannada</td>\n",
       "      <td>Msn Surya</td>\n",
       "      <td>...</td>\n",
       "      <td>Shamna Kasim, Sakshi Chaudhary, Jaya Prada, Av...</td>\n",
       "      <td>The movie revolves around an idol, Suvarna Sun...</td>\n",
       "      <td>9.9</td>\n",
       "      <td>896</td>\n",
       "      <td>NaN</td>\n",
       "      <td>NaN</td>\n",
       "      <td>NaN</td>\n",
       "      <td>NaN</td>\n",
       "      <td>NaN</td>\n",
       "      <td>2.0</td>\n",
       "    </tr>\n",
       "  </tbody>\n",
       "</table>\n",
       "<p>1 rows × 22 columns</p>\n",
       "</div>"
      ],
      "text/plain": [
       "      imdb_title_id            title   original_title    year date_published  \\\n",
       "83275     tt7822474  Suvarna Sundari  Suvarna Sundari  2019.0     2019-05-31   \n",
       "\n",
       "                  genre  duration country         language   director  ...  \\\n",
       "83275  Action, Thriller       120   India  Telugu, Kannada  Msn Surya  ...   \n",
       "\n",
       "                                                  actors  \\\n",
       "83275  Shamna Kasim, Sakshi Chaudhary, Jaya Prada, Av...   \n",
       "\n",
       "                                             description avg_vote votes  \\\n",
       "83275  The movie revolves around an idol, Suvarna Sun...      9.9   896   \n",
       "\n",
       "       budget  usa_gross_income worlwide_gross_income metascore  \\\n",
       "83275     NaN               NaN                   NaN       NaN   \n",
       "\n",
       "      reviews_from_users  reviews_from_critics  \n",
       "83275                NaN                   2.0  \n",
       "\n",
       "[1 rows x 22 columns]"
      ]
     },
     "execution_count": 92,
     "metadata": {},
     "output_type": "execute_result"
    }
   ],
   "source": [
    "highestrated"
   ]
  },
  {
   "cell_type": "markdown",
   "metadata": {
    "nbgrader": {
     "grade": false,
     "grade_id": "cell-7ceaf7b63b3e693a",
     "locked": true,
     "schema_version": 1,
     "solution": false
    }
   },
   "source": [
    "2. In which years was 'Steven Spielberg' a director of movies?"
   ]
  },
  {
   "cell_type": "code",
   "execution_count": 93,
   "metadata": {
    "nbgrader": {
     "grade": false,
     "grade_id": "cell-3790f3c7f2f507b5",
     "locked": false,
     "schema_version": 1,
     "solution": true
    }
   },
   "outputs": [],
   "source": [
    "spielbergyears = df['year']\n",
    "spielbergyears = df.loc[(df['director'] == 'Steven Spielberg'), 'year']"
   ]
  },
  {
   "cell_type": "code",
   "execution_count": 94,
   "metadata": {
    "nbgrader": {
     "grade": true,
     "grade_id": "cell-29d17459f011d4c4",
     "locked": true,
     "points": 1,
     "schema_version": 1,
     "solution": false
    }
   },
   "outputs": [
    {
     "data": {
      "text/plain": [
       "12212    1964.0\n",
       "16786    1974.0\n",
       "17068    1975.0\n",
       "17899    1977.0\n",
       "18761    1979.0\n",
       "20114    1981.0\n",
       "20367    1982.0\n",
       "21462    1984.0\n",
       "21870    1985.0\n",
       "23160    1987.0\n",
       "24396    1989.0\n",
       "24654    1989.0\n",
       "25980    1991.0\n",
       "27408    1993.0\n",
       "27629    1993.0\n",
       "30358    1997.0\n",
       "30776    1997.0\n",
       "31331    1998.0\n",
       "34978    2002.0\n",
       "36643    2001.0\n",
       "39027    2002.0\n",
       "43427    2004.0\n",
       "43733    2008.0\n",
       "45441    2005.0\n",
       "45480    2005.0\n",
       "46930    2012.0\n",
       "52034    2011.0\n",
       "59497    2011.0\n",
       "60754    2018.0\n",
       "72201    2015.0\n",
       "72258    2016.0\n",
       "80249    2017.0\n",
       "Name: year, dtype: float64"
      ]
     },
     "execution_count": 94,
     "metadata": {},
     "output_type": "execute_result"
    }
   ],
   "source": [
    "spielbergyears"
   ]
  },
  {
   "cell_type": "markdown",
   "metadata": {
    "nbgrader": {
     "grade": false,
     "grade_id": "cell-e8ec2c44454b5f79",
     "locked": true,
     "schema_version": 1,
     "solution": false
    }
   },
   "source": [
    "3. What is the movie with the highest metascore from the 1950s? (from 1950 up to 1959, 1960 does not count)"
   ]
  },
  {
   "cell_type": "code",
   "execution_count": 95,
   "metadata": {
    "nbgrader": {
     "grade": false,
     "grade_id": "cell-791fbf691ed15ac1",
     "locked": false,
     "schema_version": 1,
     "solution": true
    }
   },
   "outputs": [],
   "source": [
    "highestmeta50s = df.head(1)\n",
    "highestmeta50s = df.loc[(df['year'] > 1949) & (df['year']<1960), 'metascore'].max()"
   ]
  },
  {
   "cell_type": "code",
   "execution_count": 96,
   "metadata": {
    "nbgrader": {
     "grade": true,
     "grade_id": "cell-60f6b15d42a5fdb9",
     "locked": true,
     "points": 1,
     "schema_version": 1,
     "solution": false
    }
   },
   "outputs": [
    {
     "data": {
      "text/plain": [
       "100.0"
      ]
     },
     "execution_count": 96,
     "metadata": {},
     "output_type": "execute_result"
    }
   ],
   "source": [
    "highestmeta50s"
   ]
  },
  {
   "cell_type": "markdown",
   "metadata": {
    "nbgrader": {
     "grade": false,
     "grade_id": "cell-0b2432c9cc01626f",
     "locked": true,
     "schema_version": 1,
     "solution": false
    }
   },
   "source": [
    "4. What is the longest movie with Nicolas Cage? (NB: the actors are given as comma-separated list, you have to check whether Nicolas Cage is in the list)"
   ]
  },
  {
   "cell_type": "code",
   "execution_count": 97,
   "metadata": {
    "nbgrader": {
     "grade": false,
     "grade_id": "cell-c14098292691a01d",
     "locked": false,
     "schema_version": 1,
     "solution": true
    }
   },
   "outputs": [],
   "source": [
    "cage = df.head(1)\n",
    "cage = df[df['actors'].str.contains('Nicolas Cage')].nlargest(1, 'duration')"
   ]
  },
  {
   "cell_type": "code",
   "execution_count": 98,
   "metadata": {
    "nbgrader": {
     "grade": true,
     "grade_id": "cell-9ab3e727d37c3c49",
     "locked": true,
     "points": 1,
     "schema_version": 1,
     "solution": false
    }
   },
   "outputs": [
    {
     "data": {
      "text/html": [
       "<div>\n",
       "<style scoped>\n",
       "    .dataframe tbody tr th:only-of-type {\n",
       "        vertical-align: middle;\n",
       "    }\n",
       "\n",
       "    .dataframe tbody tr th {\n",
       "        vertical-align: top;\n",
       "    }\n",
       "\n",
       "    .dataframe thead th {\n",
       "        text-align: right;\n",
       "    }\n",
       "</style>\n",
       "<table border=\"1\" class=\"dataframe\">\n",
       "  <thead>\n",
       "    <tr style=\"text-align: right;\">\n",
       "      <th></th>\n",
       "      <th>imdb_title_id</th>\n",
       "      <th>title</th>\n",
       "      <th>original_title</th>\n",
       "      <th>year</th>\n",
       "      <th>date_published</th>\n",
       "      <th>genre</th>\n",
       "      <th>duration</th>\n",
       "      <th>country</th>\n",
       "      <th>language</th>\n",
       "      <th>director</th>\n",
       "      <th>...</th>\n",
       "      <th>actors</th>\n",
       "      <th>description</th>\n",
       "      <th>avg_vote</th>\n",
       "      <th>votes</th>\n",
       "      <th>budget</th>\n",
       "      <th>usa_gross_income</th>\n",
       "      <th>worlwide_gross_income</th>\n",
       "      <th>metascore</th>\n",
       "      <th>reviews_from_users</th>\n",
       "      <th>reviews_from_critics</th>\n",
       "    </tr>\n",
       "  </thead>\n",
       "  <tbody>\n",
       "    <tr>\n",
       "      <th>30577</th>\n",
       "      <td>tt0119094</td>\n",
       "      <td>Face/Off - Due facce di un assassino</td>\n",
       "      <td>Face/Off</td>\n",
       "      <td>1997.0</td>\n",
       "      <td>1997-10-10</td>\n",
       "      <td>Action, Crime, Sci-Fi</td>\n",
       "      <td>138</td>\n",
       "      <td>USA</td>\n",
       "      <td>English, Latin</td>\n",
       "      <td>John Woo</td>\n",
       "      <td>...</td>\n",
       "      <td>John Travolta, Nicolas Cage, Joan Allen, Aless...</td>\n",
       "      <td>In order to foil a terrorist plot, an FBI agen...</td>\n",
       "      <td>7.3</td>\n",
       "      <td>343489</td>\n",
       "      <td>$ 80000000</td>\n",
       "      <td>$ 112276146</td>\n",
       "      <td>$ 245676146</td>\n",
       "      <td>82.0</td>\n",
       "      <td>614.0</td>\n",
       "      <td>152.0</td>\n",
       "    </tr>\n",
       "  </tbody>\n",
       "</table>\n",
       "<p>1 rows × 22 columns</p>\n",
       "</div>"
      ],
      "text/plain": [
       "      imdb_title_id                                 title original_title  \\\n",
       "30577     tt0119094  Face/Off - Due facce di un assassino       Face/Off   \n",
       "\n",
       "         year date_published                  genre  duration country  \\\n",
       "30577  1997.0     1997-10-10  Action, Crime, Sci-Fi       138     USA   \n",
       "\n",
       "             language  director  ...  \\\n",
       "30577  English, Latin  John Woo  ...   \n",
       "\n",
       "                                                  actors  \\\n",
       "30577  John Travolta, Nicolas Cage, Joan Allen, Aless...   \n",
       "\n",
       "                                             description avg_vote   votes  \\\n",
       "30577  In order to foil a terrorist plot, an FBI agen...      7.3  343489   \n",
       "\n",
       "           budget  usa_gross_income worlwide_gross_income metascore  \\\n",
       "30577  $ 80000000       $ 112276146           $ 245676146      82.0   \n",
       "\n",
       "      reviews_from_users  reviews_from_critics  \n",
       "30577              614.0                 152.0  \n",
       "\n",
       "[1 rows x 22 columns]"
      ]
     },
     "execution_count": 98,
     "metadata": {},
     "output_type": "execute_result"
    }
   ],
   "source": [
    "cage"
   ]
  },
  {
   "cell_type": "markdown",
   "metadata": {
    "nbgrader": {
     "grade": false,
     "grade_id": "cell-c026e8cfcf936cbc",
     "locked": true,
     "schema_version": 1,
     "solution": false
    }
   },
   "source": [
    "5. What is the total US income (usa_gross_income) of movies directed by Christopher Nolan?\n",
    "\n",
    "Note: for some movies, the value for usa_gross_income is missing; drop those movies. You also need to strip the \"$\" from the income values and convert them to a numeric value."
   ]
  },
  {
   "cell_type": "code",
   "execution_count": 99,
   "metadata": {
    "nbgrader": {
     "grade": false,
     "grade_id": "cell-a2a2b2152a1c59e1",
     "locked": false,
     "schema_version": 1,
     "solution": true
    }
   },
   "outputs": [],
   "source": [
    "nolanincome = 0 \n",
    "nolanincome = df.dropna(how='any').usa_gross_income.str.replace('$', '').astype(int).sum() "
   ]
  },
  {
   "cell_type": "code",
   "execution_count": 100,
   "metadata": {
    "nbgrader": {
     "grade": true,
     "grade_id": "cell-21e0d4cb1259456e",
     "locked": true,
     "points": 1,
     "schema_version": 1,
     "solution": false
    }
   },
   "outputs": [
    {
     "data": {
      "text/plain": [
       "269658645869"
      ]
     },
     "execution_count": 100,
     "metadata": {},
     "output_type": "execute_result"
    }
   ],
   "source": [
    "nolanincome"
   ]
  },
  {
   "cell_type": "markdown",
   "metadata": {},
   "source": [
    "6. Consider the movies with a metascore > 90 (critic favorites). Group them by year. Which year has the lowest average rating (avg_vote)?"
   ]
  },
  {
   "cell_type": "code",
   "execution_count": 101,
   "metadata": {},
   "outputs": [],
   "source": [
    "worstcriticfavorite = pd.Series({1900: 1.0, 1901: 1.0})\n",
    "worstcriticfavorite = df.groupby('year').avg_vote.sum().sort_values(ascending=False).iloc[0:1]"
   ]
  },
  {
   "cell_type": "code",
   "execution_count": 102,
   "metadata": {},
   "outputs": [
    {
     "data": {
      "text/plain": [
       "year\n",
       "2017.0    18923.6\n",
       "Name: avg_vote, dtype: float64"
      ]
     },
     "execution_count": 102,
     "metadata": {},
     "output_type": "execute_result"
    }
   ],
   "source": [
    "worstcriticfavorite"
   ]
  },
  {
   "cell_type": "markdown",
   "metadata": {},
   "source": [
    "7a. Make a plot of the total number of votes for movies in each year."
   ]
  },
  {
   "cell_type": "code",
   "execution_count": 103,
   "metadata": {},
   "outputs": [
    {
     "data": {
      "text/plain": [
       "<AxesSubplot:xlabel='year'>"
      ]
     },
     "execution_count": 103,
     "metadata": {},
     "output_type": "execute_result"
    },
    {
     "data": {
      "image/png": "[encoded data removed]",
      "text/plain": [
       "<Figure size 432x288 with 1 Axes>"
      ]
     },
     "metadata": {
      "needs_background": "light"
     },
     "output_type": "display_data"
    }
   ],
   "source": [
    "df.groupby('year').votes.sum().plot()"
   ]
  },
  {
   "cell_type": "markdown",
   "metadata": {},
   "source": [
    "7b. In which year did movies get the most votes?"
   ]
  },
  {
   "cell_type": "code",
   "execution_count": 104,
   "metadata": {},
   "outputs": [],
   "source": [
    "mostvotes = pd.Series({1900: 0})\n",
    "mostvotes = df.groupby('year').votes.sum().sort_values(ascending=False).iloc[0:1]"
   ]
  },
  {
   "cell_type": "code",
   "execution_count": 105,
   "metadata": {},
   "outputs": [
    {
     "data": {
      "text/plain": [
       "year\n",
       "2013.0    37220543\n",
       "Name: votes, dtype: int64"
      ]
     },
     "execution_count": 105,
     "metadata": {},
     "output_type": "execute_result"
    }
   ],
   "source": [
    "mostvotes"
   ]
  },
  {
   "cell_type": "markdown",
   "metadata": {
    "nbgrader": {
     "grade": false,
     "grade_id": "cell-8502d2b8d6b61cd0",
     "locked": true,
     "schema_version": 1,
     "solution": false
    }
   },
   "source": [
    "8a. Is there a relationship between year and the average rating (avg_vote)? Make a scatter plot with year on the x-axis and avg_vote on the y-axis."
   ]
  },
  {
   "cell_type": "code",
   "execution_count": 106,
   "metadata": {
    "nbgrader": {
     "grade": true,
     "grade_id": "cell-1c0ebdbd6021bfa1",
     "locked": false,
     "points": 1,
     "schema_version": 1,
     "solution": true
    }
   },
   "outputs": [
    {
     "data": {
      "text/plain": [
       "<matplotlib.collections.PathCollection at 0x7fc227125c18>"
      ]
     },
     "execution_count": 106,
     "metadata": {},
     "output_type": "execute_result"
    },
    {
     "data": {
      "image/png": "[encoded data removed]",
      "text/plain": [
       "<Figure size 432x288 with 1 Axes>"
      ]
     },
     "metadata": {
      "needs_background": "light"
     },
     "output_type": "display_data"
    }
   ],
   "source": [
    "plt.scatter((df['year']), (df['avg_vote']))"
   ]
  },
  {
   "cell_type": "markdown",
   "metadata": {},
   "source": [
    "8b. What is the correlation coefficient?"
   ]
  },
  {
   "cell_type": "code",
   "execution_count": 107,
   "metadata": {
    "nbgrader": {
     "grade": false,
     "grade_id": "cell-d3f38a6e5fac087c",
     "locked": false,
     "schema_version": 1,
     "solution": true
    }
   },
   "outputs": [],
   "source": [
    "corr = 0.5\n",
    "corr = df['year'].corr(df['avg_vote'])"
   ]
  },
  {
   "cell_type": "code",
   "execution_count": 108,
   "metadata": {
    "nbgrader": {
     "grade": true,
     "grade_id": "cell-2085cd48ee05767f",
     "locked": true,
     "points": 1,
     "schema_version": 1,
     "solution": false
    }
   },
   "outputs": [
    {
     "data": {
      "text/plain": [
       "-0.21796005460270257"
      ]
     },
     "execution_count": 108,
     "metadata": {},
     "output_type": "execute_result"
    }
   ],
   "source": [
    "corr"
   ]
  },
  {
   "cell_type": "markdown",
   "metadata": {
    "nbgrader": {
     "grade": false,
     "grade_id": "cell-8a0eaaa740763098",
     "locked": true,
     "schema_version": 1,
     "solution": false
    }
   },
   "source": [
    "9. Think of an interesting question involving two or more variables and answer it with a table or plot."
   ]
  },
  {
   "cell_type": "code",
   "execution_count": 109,
   "metadata": {
    "nbgrader": {
     "grade": true,
     "grade_id": "cell-fb60cc9d9cd29f24",
     "locked": false,
     "points": 2,
     "schema_version": 1,
     "solution": true
    }
   },
   "outputs": [
    {
     "data": {
      "text/plain": [
       "<AxesSubplot:xlabel='genre'>"
      ]
     },
     "execution_count": 109,
     "metadata": {},
     "output_type": "execute_result"
    },
    {
     "data": {
      "image/png": "[encoded data removed]",
      "text/plain": [
       "<Figure size 432x288 with 1 Axes>"
      ]
     },
     "metadata": {
      "needs_background": "light"
     },
     "output_type": "display_data"
    }
   ],
   "source": [
    "#Question: For every genre, what is the average duration?\n",
    "df.groupby('genre').duration.mean().plot(rot=90)"
   ]
  },
  {
   "cell_type": "code",
   "execution_count": null,
   "metadata": {},
   "outputs": [],
   "source": []
  },
  {
   "cell_type": "code",
   "execution_count": null,
   "metadata": {},
   "outputs": [],
   "source": []
  }
 ],
 "metadata": {
  "kernelspec": {
   "display_name": "Python 3",
   "language": "python",
   "name": "python3"
  },
  "language_info": {
   "codemirror_mode": {
    "name": "ipython",
    "version": 3
   },
   "file_extension": ".py",
   "mimetype": "text/x-python",
   "name": "python",
   "nbconvert_exporter": "python",
   "pygments_lexer": "ipython3",
   "version": "3.6.9"
  }
 },
 "nbformat": 4,
 "nbformat_minor": 4
}
